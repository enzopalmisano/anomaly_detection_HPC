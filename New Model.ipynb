{
 "cells": [
  {
   "cell_type": "code",
   "execution_count": 1,
   "metadata": {},
   "outputs": [
    {
     "name": "stderr",
     "output_type": "stream",
     "text": [
      "Using TensorFlow backend.\n"
     ]
    }
   ],
   "source": [
    "import warnings\n",
    "warnings.filterwarnings('ignore')\n",
    "import keras\n",
    "import numpy as np\n",
    "import pandas as pd\n",
    "from sklearn.utils import shuffle\n",
    "from sklearn.model_selection import train_test_split\n",
    "from keras.models import Sequential, Model, load_model\n",
    "from keras.layers import Input, Dense,Dropout"
   ]
  },
  {
   "cell_type": "code",
   "execution_count": 2,
   "metadata": {},
   "outputs": [],
   "source": [
    "node = \"r183c12s04\"\n",
    "dataset = pd.read_csv('my_code/norm_dataset/'+node+'_normalised.csv')\n",
    "input_data = dataset.drop(labels=['timestamp','label'], axis=1).astype('float64').values\n",
    "labels = dataset.loc[:,'label'].astype(int).values\n",
    "input_dim = input_data.shape[1]"
   ]
  },
  {
   "cell_type": "code",
   "execution_count": 3,
   "metadata": {},
   "outputs": [],
   "source": [
    "X_train, X_test, y_train, y_test = train_test_split(input_data, labels, test_size=0.10, shuffle=True, random_state=21)"
   ]
  },
  {
   "cell_type": "code",
   "execution_count": 4,
   "metadata": {},
   "outputs": [
    {
     "name": "stdout",
     "output_type": "stream",
     "text": [
      "WARNING:tensorflow:From /home/reboot/anaconda3/envs/Anomaly_Detection_HPC/lib/python3.7/site-packages/tensorflow/python/framework/op_def_library.py:263: colocate_with (from tensorflow.python.framework.ops) is deprecated and will be removed in a future version.\n",
      "Instructions for updating:\n",
      "Colocations handled automatically by placer.\n",
      "WARNING:tensorflow:From /home/reboot/anaconda3/envs/Anomaly_Detection_HPC/lib/python3.7/site-packages/keras/backend/tensorflow_backend.py:3445: calling dropout (from tensorflow.python.ops.nn_ops) with keep_prob is deprecated and will be removed in a future version.\n",
      "Instructions for updating:\n",
      "Please use `rate` instead of `keep_prob`. Rate should be set to `rate = 1 - keep_prob`.\n",
      "_________________________________________________________________\n",
      "Layer (type)                 Output Shape              Param #   \n",
      "=================================================================\n",
      "encoder_1 (Dense)            (None, 100)               12500     \n",
      "_________________________________________________________________\n",
      "encoder_2 (Dense)            (None, 80)                8080      \n",
      "_________________________________________________________________\n",
      "dropout_1 (Dropout)          (None, 80)                0         \n",
      "_________________________________________________________________\n",
      "encoder_3 (Dense)            (None, 60)                4860      \n",
      "_________________________________________________________________\n",
      "encoder_4 (Dense)            (None, 40)                2440      \n",
      "_________________________________________________________________\n",
      "code (Dense)                 (None, 20)                820       \n",
      "_________________________________________________________________\n",
      "decoder_1 (Dense)            (None, 40)                840       \n",
      "_________________________________________________________________\n",
      "decoder_2 (Dense)            (None, 60)                2460      \n",
      "_________________________________________________________________\n",
      "decoder_3 (Dense)            (None, 80)                4880      \n",
      "_________________________________________________________________\n",
      "dropout_2 (Dropout)          (None, 80)                0         \n",
      "_________________________________________________________________\n",
      "decoder_4 (Dense)            (None, 100)               8100      \n",
      "_________________________________________________________________\n",
      "output (Dense)               (None, 124)               12524     \n",
      "=================================================================\n",
      "Total params: 57,504\n",
      "Trainable params: 57,504\n",
      "Non-trainable params: 0\n",
      "_________________________________________________________________\n",
      "None\n"
     ]
    }
   ],
   "source": [
    "#autoencoder model\n",
    "autoencoder = Sequential()\n",
    "autoencoder.add(Dense(100, activation='relu', input_dim=input_dim, name='encoder_1'))\n",
    "autoencoder.add(Dense(80, activation='relu', name=\"encoder_2\"))\n",
    "autoencoder.add(Dropout(0.5))\n",
    "autoencoder.add(Dense(60, activation='relu', name=\"encoder_3\"))\n",
    "autoencoder.add(Dense(40, activation='relu', name=\"encoder_4\"))\n",
    "autoencoder.add(Dense(20, activation='relu', name='code'))\n",
    "autoencoder.add(Dense(40, activation='relu', name=\"decoder_1\"))\n",
    "autoencoder.add(Dense(60, activation='relu', name=\"decoder_2\"))\n",
    "autoencoder.add(Dense(80, activation='relu', name=\"decoder_3\"))\n",
    "autoencoder.add(Dropout(0.5))\n",
    "autoencoder.add(Dense(100, activation='relu', name=\"decoder_4\"))\n",
    "autoencoder.add(Dense(input_dim, activation='sigmoid', name='output'))\n",
    "autoencoder.compile(optimizer='adam', loss=\"mean_squared_error\")\n",
    "print(autoencoder.summary())"
   ]
  },
  {
   "cell_type": "code",
   "execution_count": 5,
   "metadata": {},
   "outputs": [
    {
     "name": "stdout",
     "output_type": "stream",
     "text": [
      "WARNING:tensorflow:From /home/reboot/anaconda3/envs/Anomaly_Detection_HPC/lib/python3.7/site-packages/tensorflow/python/ops/math_ops.py:3066: to_int32 (from tensorflow.python.ops.math_ops) is deprecated and will be removed in a future version.\n",
      "Instructions for updating:\n",
      "Use tf.cast instead.\n",
      "Train on 3855 samples, validate on 429 samples\n",
      "Epoch 1/100\n",
      "3855/3855 [==============================] - 1s 142us/step - loss: 0.0793 - val_loss: 0.0161\n",
      "Epoch 2/100\n",
      "3855/3855 [==============================] - 0s 33us/step - loss: 0.0166 - val_loss: 0.0144\n",
      "Epoch 3/100\n",
      "3855/3855 [==============================] - 0s 33us/step - loss: 0.0146 - val_loss: 0.0139\n",
      "Epoch 4/100\n",
      "3855/3855 [==============================] - 0s 33us/step - loss: 0.0138 - val_loss: 0.0139\n",
      "Epoch 5/100\n",
      "3855/3855 [==============================] - 0s 33us/step - loss: 0.0134 - val_loss: 0.0133\n",
      "Epoch 6/100\n",
      "3855/3855 [==============================] - 0s 33us/step - loss: 0.0115 - val_loss: 0.0094\n",
      "Epoch 7/100\n",
      "3855/3855 [==============================] - 0s 33us/step - loss: 0.0093 - val_loss: 0.0087\n",
      "Epoch 8/100\n",
      "3855/3855 [==============================] - 0s 33us/step - loss: 0.0087 - val_loss: 0.0082\n",
      "Epoch 9/100\n",
      "3855/3855 [==============================] - 0s 34us/step - loss: 0.0082 - val_loss: 0.0076\n",
      "Epoch 10/100\n",
      "3855/3855 [==============================] - 0s 33us/step - loss: 0.0077 - val_loss: 0.0071\n",
      "Epoch 11/100\n",
      "3855/3855 [==============================] - 0s 33us/step - loss: 0.0072 - val_loss: 0.0066\n",
      "Epoch 12/100\n",
      "3855/3855 [==============================] - 0s 33us/step - loss: 0.0068 - val_loss: 0.0062\n",
      "Epoch 13/100\n",
      "3855/3855 [==============================] - 0s 33us/step - loss: 0.0065 - val_loss: 0.0059\n",
      "Epoch 14/100\n",
      "3855/3855 [==============================] - 0s 34us/step - loss: 0.0062 - val_loss: 0.0057\n",
      "Epoch 15/100\n",
      "3855/3855 [==============================] - 0s 34us/step - loss: 0.0061 - val_loss: 0.0058\n",
      "Epoch 16/100\n",
      "3855/3855 [==============================] - 0s 33us/step - loss: 0.0059 - val_loss: 0.0055\n",
      "Epoch 17/100\n",
      "3855/3855 [==============================] - 0s 33us/step - loss: 0.0057 - val_loss: 0.0053\n",
      "Epoch 18/100\n",
      "3855/3855 [==============================] - 0s 33us/step - loss: 0.0054 - val_loss: 0.0050\n",
      "Epoch 19/100\n",
      "3855/3855 [==============================] - 0s 34us/step - loss: 0.0052 - val_loss: 0.0048\n",
      "Epoch 20/100\n",
      "3855/3855 [==============================] - 0s 33us/step - loss: 0.0051 - val_loss: 0.0046\n",
      "Epoch 21/100\n",
      "3855/3855 [==============================] - 0s 33us/step - loss: 0.0050 - val_loss: 0.0047\n",
      "Epoch 22/100\n",
      "3855/3855 [==============================] - 0s 37us/step - loss: 0.0049 - val_loss: 0.0047\n",
      "Epoch 23/100\n",
      "3855/3855 [==============================] - 0s 35us/step - loss: 0.0048 - val_loss: 0.0047\n",
      "Epoch 24/100\n",
      "3855/3855 [==============================] - 0s 35us/step - loss: 0.0047 - val_loss: 0.0046\n",
      "Epoch 25/100\n",
      "3855/3855 [==============================] - 0s 35us/step - loss: 0.0047 - val_loss: 0.0044\n",
      "Epoch 26/100\n",
      "3855/3855 [==============================] - 0s 34us/step - loss: 0.0046 - val_loss: 0.0045\n",
      "Epoch 27/100\n",
      "3855/3855 [==============================] - 0s 36us/step - loss: 0.0045 - val_loss: 0.0042\n",
      "Epoch 28/100\n",
      "3855/3855 [==============================] - 0s 35us/step - loss: 0.0045 - val_loss: 0.0042\n",
      "Epoch 29/100\n",
      "3855/3855 [==============================] - 0s 36us/step - loss: 0.0045 - val_loss: 0.0043\n",
      "Epoch 30/100\n",
      "3855/3855 [==============================] - 0s 34us/step - loss: 0.0044 - val_loss: 0.0043\n",
      "Epoch 31/100\n",
      "3855/3855 [==============================] - 0s 35us/step - loss: 0.0044 - val_loss: 0.0042\n",
      "Epoch 32/100\n",
      "3855/3855 [==============================] - 0s 34us/step - loss: 0.0044 - val_loss: 0.0041\n",
      "Epoch 33/100\n",
      "3855/3855 [==============================] - 0s 36us/step - loss: 0.0043 - val_loss: 0.0042\n",
      "Epoch 34/100\n",
      "3855/3855 [==============================] - 0s 38us/step - loss: 0.0043 - val_loss: 0.0041\n",
      "Epoch 35/100\n",
      "3855/3855 [==============================] - 0s 45us/step - loss: 0.0042 - val_loss: 0.0042\n",
      "Epoch 36/100\n",
      "3855/3855 [==============================] - 0s 40us/step - loss: 0.0042 - val_loss: 0.0041\n",
      "Epoch 37/100\n",
      "3855/3855 [==============================] - 0s 37us/step - loss: 0.0042 - val_loss: 0.0040\n",
      "Epoch 38/100\n",
      "3855/3855 [==============================] - 0s 36us/step - loss: 0.0041 - val_loss: 0.0039\n",
      "Epoch 39/100\n",
      "3855/3855 [==============================] - 0s 37us/step - loss: 0.0041 - val_loss: 0.0041\n",
      "Epoch 40/100\n",
      "3855/3855 [==============================] - 0s 37us/step - loss: 0.0040 - val_loss: 0.0040\n",
      "Epoch 41/100\n",
      "3855/3855 [==============================] - 0s 36us/step - loss: 0.0040 - val_loss: 0.0039\n",
      "Epoch 42/100\n",
      "3855/3855 [==============================] - 0s 37us/step - loss: 0.0040 - val_loss: 0.0041\n",
      "Epoch 43/100\n",
      "3855/3855 [==============================] - 0s 44us/step - loss: 0.0040 - val_loss: 0.0038\n",
      "Epoch 44/100\n",
      "3855/3855 [==============================] - 0s 46us/step - loss: 0.0040 - val_loss: 0.0037\n",
      "Epoch 45/100\n",
      "3855/3855 [==============================] - 0s 43us/step - loss: 0.0039 - val_loss: 0.0039\n",
      "Epoch 46/100\n",
      "3855/3855 [==============================] - 0s 44us/step - loss: 0.0039 - val_loss: 0.0039\n",
      "Epoch 47/100\n",
      "3855/3855 [==============================] - 0s 41us/step - loss: 0.0039 - val_loss: 0.0039\n",
      "Epoch 48/100\n",
      "3855/3855 [==============================] - 0s 40us/step - loss: 0.0039 - val_loss: 0.0039\n",
      "Epoch 49/100\n",
      "3855/3855 [==============================] - 0s 41us/step - loss: 0.0038 - val_loss: 0.0040\n",
      "Epoch 50/100\n",
      "3855/3855 [==============================] - 0s 42us/step - loss: 0.0038 - val_loss: 0.0040\n",
      "Epoch 51/100\n",
      "3855/3855 [==============================] - 0s 34us/step - loss: 0.0038 - val_loss: 0.0038\n",
      "Epoch 52/100\n",
      "3855/3855 [==============================] - 0s 34us/step - loss: 0.0038 - val_loss: 0.0038\n",
      "Epoch 53/100\n",
      "3855/3855 [==============================] - 0s 31us/step - loss: 0.0038 - val_loss: 0.0037\n",
      "Epoch 54/100\n",
      "3855/3855 [==============================] - 0s 32us/step - loss: 0.0038 - val_loss: 0.0036\n",
      "Epoch 55/100\n",
      "3855/3855 [==============================] - 0s 32us/step - loss: 0.0038 - val_loss: 0.0037\n",
      "Epoch 56/100\n",
      "3855/3855 [==============================] - 0s 32us/step - loss: 0.0038 - val_loss: 0.0038\n",
      "Epoch 57/100\n",
      "3855/3855 [==============================] - 0s 33us/step - loss: 0.0038 - val_loss: 0.0037\n",
      "Epoch 58/100\n",
      "3855/3855 [==============================] - 0s 50us/step - loss: 0.0037 - val_loss: 0.0037\n",
      "Epoch 59/100\n",
      "3855/3855 [==============================] - 0s 36us/step - loss: 0.0038 - val_loss: 0.0037\n",
      "Epoch 60/100\n",
      "3855/3855 [==============================] - 0s 46us/step - loss: 0.0037 - val_loss: 0.0038\n",
      "Epoch 61/100\n",
      "3855/3855 [==============================] - 0s 41us/step - loss: 0.0037 - val_loss: 0.0036\n",
      "Epoch 62/100\n",
      "3855/3855 [==============================] - 0s 32us/step - loss: 0.0037 - val_loss: 0.0037\n",
      "Epoch 63/100\n",
      "3855/3855 [==============================] - 0s 31us/step - loss: 0.0036 - val_loss: 0.0037\n",
      "Epoch 64/100\n",
      "3855/3855 [==============================] - 0s 32us/step - loss: 0.0036 - val_loss: 0.0037\n",
      "Epoch 65/100\n",
      "3855/3855 [==============================] - 0s 32us/step - loss: 0.0036 - val_loss: 0.0036\n",
      "Epoch 66/100\n",
      "3855/3855 [==============================] - 0s 31us/step - loss: 0.0036 - val_loss: 0.0037\n",
      "Epoch 67/100\n",
      "3855/3855 [==============================] - 0s 32us/step - loss: 0.0036 - val_loss: 0.0037\n",
      "Epoch 68/100\n",
      "3855/3855 [==============================] - 0s 31us/step - loss: 0.0036 - val_loss: 0.0037\n",
      "Epoch 69/100\n",
      "3855/3855 [==============================] - 0s 31us/step - loss: 0.0036 - val_loss: 0.0039\n",
      "Epoch 70/100\n",
      "3855/3855 [==============================] - 0s 32us/step - loss: 0.0035 - val_loss: 0.0036\n",
      "Epoch 71/100\n",
      "3855/3855 [==============================] - 0s 33us/step - loss: 0.0035 - val_loss: 0.0036\n",
      "Epoch 72/100\n",
      "3855/3855 [==============================] - 0s 34us/step - loss: 0.0036 - val_loss: 0.0036\n",
      "Epoch 73/100\n",
      "3855/3855 [==============================] - 0s 59us/step - loss: 0.0035 - val_loss: 0.0036\n",
      "Epoch 74/100\n",
      "3855/3855 [==============================] - 0s 48us/step - loss: 0.0035 - val_loss: 0.0037\n",
      "Epoch 75/100\n",
      "3855/3855 [==============================] - 0s 45us/step - loss: 0.0035 - val_loss: 0.0037\n"
     ]
    },
    {
     "name": "stdout",
     "output_type": "stream",
     "text": [
      "Epoch 76/100\n",
      "3855/3855 [==============================] - 0s 54us/step - loss: 0.0035 - val_loss: 0.0036\n",
      "Epoch 77/100\n",
      "3855/3855 [==============================] - 0s 34us/step - loss: 0.0035 - val_loss: 0.0037\n",
      "Epoch 78/100\n",
      "3855/3855 [==============================] - 0s 37us/step - loss: 0.0035 - val_loss: 0.0038\n",
      "Epoch 79/100\n",
      "3855/3855 [==============================] - 0s 48us/step - loss: 0.0035 - val_loss: 0.0037\n",
      "Epoch 80/100\n",
      "3855/3855 [==============================] - 0s 36us/step - loss: 0.0035 - val_loss: 0.0037\n",
      "Epoch 81/100\n",
      "3855/3855 [==============================] - 0s 34us/step - loss: 0.0035 - val_loss: 0.0036\n",
      "Epoch 82/100\n",
      "3855/3855 [==============================] - 0s 41us/step - loss: 0.0035 - val_loss: 0.0039\n",
      "Epoch 83/100\n",
      "3855/3855 [==============================] - 0s 44us/step - loss: 0.0033 - val_loss: 0.0033\n",
      "Epoch 84/100\n",
      "3855/3855 [==============================] - 0s 41us/step - loss: 0.0030 - val_loss: 0.0033\n",
      "Epoch 85/100\n",
      "3855/3855 [==============================] - 0s 45us/step - loss: 0.0029 - val_loss: 0.0030\n",
      "Epoch 86/100\n",
      "3855/3855 [==============================] - 0s 38us/step - loss: 0.0029 - val_loss: 0.0030\n",
      "Epoch 87/100\n",
      "3855/3855 [==============================] - 0s 34us/step - loss: 0.0029 - val_loss: 0.0029\n",
      "Epoch 88/100\n",
      "3855/3855 [==============================] - 0s 35us/step - loss: 0.0028 - val_loss: 0.0030\n",
      "Epoch 89/100\n",
      "3855/3855 [==============================] - 0s 33us/step - loss: 0.0028 - val_loss: 0.0028\n",
      "Epoch 90/100\n",
      "3855/3855 [==============================] - 0s 33us/step - loss: 0.0028 - val_loss: 0.0032\n",
      "Epoch 91/100\n",
      "3855/3855 [==============================] - 0s 33us/step - loss: 0.0028 - val_loss: 0.0029\n",
      "Epoch 92/100\n",
      "3855/3855 [==============================] - 0s 36us/step - loss: 0.0028 - val_loss: 0.0032\n",
      "Epoch 93/100\n",
      "3855/3855 [==============================] - 0s 34us/step - loss: 0.0028 - val_loss: 0.0032\n",
      "Epoch 94/100\n",
      "3855/3855 [==============================] - 0s 34us/step - loss: 0.0028 - val_loss: 0.0029\n",
      "Epoch 95/100\n",
      "3855/3855 [==============================] - 0s 34us/step - loss: 0.0028 - val_loss: 0.0032\n",
      "Epoch 96/100\n",
      "3855/3855 [==============================] - 0s 33us/step - loss: 0.0028 - val_loss: 0.0030\n",
      "Epoch 97/100\n",
      "3855/3855 [==============================] - 0s 34us/step - loss: 0.0028 - val_loss: 0.0029\n",
      "Epoch 98/100\n",
      "3855/3855 [==============================] - 0s 33us/step - loss: 0.0028 - val_loss: 0.0031\n",
      "Epoch 99/100\n",
      "3855/3855 [==============================] - 0s 34us/step - loss: 0.0027 - val_loss: 0.0029\n",
      "Epoch 100/100\n",
      "3855/3855 [==============================] - 0s 34us/step - loss: 0.0027 - val_loss: 0.0030\n"
     ]
    }
   ],
   "source": [
    "history = autoencoder.fit(x=X_train, y=X_train, epochs=100, validation_split=0.10, batch_size=75,shuffle=True)"
   ]
  },
  {
   "cell_type": "code",
   "execution_count": 6,
   "metadata": {},
   "outputs": [
    {
     "name": "stdout",
     "output_type": "stream",
     "text": [
      "476/476 [==============================] - 0s 27us/step\n",
      "0.0027286826022470197\n"
     ]
    }
   ],
   "source": [
    "loss = autoencoder.evaluate(X_test, X_test)\n",
    "print(loss)"
   ]
  },
  {
   "cell_type": "code",
   "execution_count": 54,
   "metadata": {},
   "outputs": [],
   "source": [
    "autoencoder.save('./models/my_models/autoencoder_model_'+node+'.h5')"
   ]
  },
  {
   "cell_type": "code",
   "execution_count": 7,
   "metadata": {},
   "outputs": [
    {
     "name": "stdout",
     "output_type": "stream",
     "text": [
      "_________________________________________________________________\n",
      "Layer (type)                 Output Shape              Param #   \n",
      "=================================================================\n",
      "encoder (Model)              (None, 20)                28700     \n",
      "_________________________________________________________________\n",
      "hidden (Dense)               (None, 20)                420       \n",
      "_________________________________________________________________\n",
      "output (Dense)               (None, 1)                 21        \n",
      "=================================================================\n",
      "Total params: 29,141\n",
      "Trainable params: 441\n",
      "Non-trainable params: 28,700\n",
      "_________________________________________________________________\n",
      "None\n"
     ]
    }
   ],
   "source": [
    "#classifier model\n",
    "encoder = Model(inputs=autoencoder.get_layer(\"encoder_1\").input, outputs=autoencoder.get_layer(\"code\").output)\n",
    "classifier = Sequential()\n",
    "classifier.add(encoder)\n",
    "classifier.add(Dense(20, activation='relu', name=\"hidden\"))\n",
    "classifier.add(Dense(1,activation=\"sigmoid\", name=\"output\"))\n",
    "classifier.layers[0].name=\"encoder\"\n",
    "classifier.layers[0].trainable=False\n",
    "classifier.compile(optimizer='adam', loss=\"binary_crossentropy\", metrics=['accuracy'])\n",
    "print(classifier.summary())"
   ]
  },
  {
   "cell_type": "code",
   "execution_count": 8,
   "metadata": {},
   "outputs": [
    {
     "name": "stdout",
     "output_type": "stream",
     "text": [
      "Train on 3855 samples, validate on 429 samples\n",
      "Epoch 1/110\n",
      "3855/3855 [==============================] - 0s 79us/step - loss: 0.3766 - acc: 0.9157 - val_loss: 0.3032 - val_acc: 0.9580\n",
      "Epoch 2/110\n",
      "3855/3855 [==============================] - 0s 18us/step - loss: 0.2052 - acc: 0.9777 - val_loss: 0.1754 - val_acc: 0.9790\n",
      "Epoch 3/110\n",
      "3855/3855 [==============================] - 0s 18us/step - loss: 0.1240 - acc: 0.9888 - val_loss: 0.1086 - val_acc: 0.9930\n",
      "Epoch 4/110\n",
      "3855/3855 [==============================] - 0s 16us/step - loss: 0.0801 - acc: 0.9933 - val_loss: 0.0757 - val_acc: 0.9930\n",
      "Epoch 5/110\n",
      "3855/3855 [==============================] - 0s 16us/step - loss: 0.0618 - acc: 0.9909 - val_loss: 0.0516 - val_acc: 0.9930\n",
      "Epoch 6/110\n",
      "3855/3855 [==============================] - 0s 18us/step - loss: 0.0467 - acc: 0.9943 - val_loss: 0.0417 - val_acc: 0.9930\n",
      "Epoch 7/110\n",
      "3855/3855 [==============================] - 0s 17us/step - loss: 0.0379 - acc: 0.9951 - val_loss: 0.0314 - val_acc: 0.9953\n",
      "Epoch 8/110\n",
      "3855/3855 [==============================] - 0s 18us/step - loss: 0.0356 - acc: 0.9946 - val_loss: 0.0241 - val_acc: 0.9953\n",
      "Epoch 9/110\n",
      "3855/3855 [==============================] - 0s 21us/step - loss: 0.0292 - acc: 0.9958 - val_loss: 0.0193 - val_acc: 0.9977\n",
      "Epoch 10/110\n",
      "3855/3855 [==============================] - 0s 19us/step - loss: 0.0281 - acc: 0.9961 - val_loss: 0.0170 - val_acc: 0.9977\n",
      "Epoch 11/110\n",
      "3855/3855 [==============================] - 0s 19us/step - loss: 0.0279 - acc: 0.9956 - val_loss: 0.0147 - val_acc: 0.9977\n",
      "Epoch 12/110\n",
      "3855/3855 [==============================] - 0s 23us/step - loss: 0.0249 - acc: 0.9956 - val_loss: 0.0133 - val_acc: 0.9977\n",
      "Epoch 13/110\n",
      "3855/3855 [==============================] - 0s 21us/step - loss: 0.0240 - acc: 0.9956 - val_loss: 0.0101 - val_acc: 1.0000\n",
      "Epoch 14/110\n",
      "3855/3855 [==============================] - 0s 20us/step - loss: 0.0230 - acc: 0.9956 - val_loss: 0.0092 - val_acc: 1.0000\n",
      "Epoch 15/110\n",
      "3855/3855 [==============================] - 0s 19us/step - loss: 0.0224 - acc: 0.9964 - val_loss: 0.0087 - val_acc: 0.9977\n",
      "Epoch 16/110\n",
      "3855/3855 [==============================] - 0s 20us/step - loss: 0.0210 - acc: 0.9969 - val_loss: 0.0073 - val_acc: 1.0000\n",
      "Epoch 17/110\n",
      "3855/3855 [==============================] - 0s 20us/step - loss: 0.0187 - acc: 0.9971 - val_loss: 0.0075 - val_acc: 0.9977\n",
      "Epoch 18/110\n",
      "3855/3855 [==============================] - 0s 20us/step - loss: 0.0207 - acc: 0.9958 - val_loss: 0.0064 - val_acc: 1.0000\n",
      "Epoch 19/110\n",
      "3855/3855 [==============================] - 0s 20us/step - loss: 0.0180 - acc: 0.9971 - val_loss: 0.0060 - val_acc: 1.0000\n",
      "Epoch 20/110\n",
      "3855/3855 [==============================] - 0s 20us/step - loss: 0.0174 - acc: 0.9977 - val_loss: 0.0058 - val_acc: 1.0000\n",
      "Epoch 21/110\n",
      "3855/3855 [==============================] - 0s 19us/step - loss: 0.0162 - acc: 0.9974 - val_loss: 0.0063 - val_acc: 0.9977\n",
      "Epoch 22/110\n",
      "3855/3855 [==============================] - 0s 19us/step - loss: 0.0146 - acc: 0.9974 - val_loss: 0.0049 - val_acc: 1.0000\n",
      "Epoch 23/110\n",
      "3855/3855 [==============================] - 0s 19us/step - loss: 0.0153 - acc: 0.9964 - val_loss: 0.0051 - val_acc: 1.0000\n",
      "Epoch 24/110\n",
      "3855/3855 [==============================] - 0s 18us/step - loss: 0.0132 - acc: 0.9984 - val_loss: 0.0056 - val_acc: 1.0000\n",
      "Epoch 25/110\n",
      "3855/3855 [==============================] - 0s 19us/step - loss: 0.0120 - acc: 0.9984 - val_loss: 0.0048 - val_acc: 1.0000\n",
      "Epoch 26/110\n",
      "3855/3855 [==============================] - 0s 18us/step - loss: 0.0132 - acc: 0.9969 - val_loss: 0.0042 - val_acc: 1.0000\n",
      "Epoch 27/110\n",
      "3855/3855 [==============================] - 0s 20us/step - loss: 0.0146 - acc: 0.9964 - val_loss: 0.0046 - val_acc: 1.0000\n",
      "Epoch 28/110\n",
      "3855/3855 [==============================] - 0s 21us/step - loss: 0.0154 - acc: 0.9956 - val_loss: 0.0038 - val_acc: 1.0000\n",
      "Epoch 29/110\n",
      "3855/3855 [==============================] - 0s 20us/step - loss: 0.0128 - acc: 0.9958 - val_loss: 0.0034 - val_acc: 1.0000\n",
      "Epoch 30/110\n",
      "3855/3855 [==============================] - 0s 20us/step - loss: 0.0095 - acc: 0.9979 - val_loss: 0.0035 - val_acc: 1.0000\n",
      "Epoch 31/110\n",
      "3855/3855 [==============================] - 0s 20us/step - loss: 0.0097 - acc: 0.9979 - val_loss: 0.0031 - val_acc: 1.0000\n",
      "Epoch 32/110\n",
      "3855/3855 [==============================] - 0s 23us/step - loss: 0.0094 - acc: 0.9974 - val_loss: 0.0035 - val_acc: 1.0000\n",
      "Epoch 33/110\n",
      "3855/3855 [==============================] - 0s 22us/step - loss: 0.0141 - acc: 0.9974 - val_loss: 0.0032 - val_acc: 1.0000\n",
      "Epoch 34/110\n",
      "3855/3855 [==============================] - 0s 22us/step - loss: 0.0109 - acc: 0.9977 - val_loss: 0.0031 - val_acc: 1.0000\n",
      "Epoch 35/110\n",
      "3855/3855 [==============================] - 0s 21us/step - loss: 0.0094 - acc: 0.9969 - val_loss: 0.0030 - val_acc: 1.0000\n",
      "Epoch 36/110\n",
      "3855/3855 [==============================] - 0s 20us/step - loss: 0.0092 - acc: 0.9977 - val_loss: 0.0028 - val_acc: 1.0000\n",
      "Epoch 37/110\n",
      "3855/3855 [==============================] - 0s 21us/step - loss: 0.0096 - acc: 0.9977 - val_loss: 0.0030 - val_acc: 1.0000\n",
      "Epoch 38/110\n",
      "3855/3855 [==============================] - 0s 21us/step - loss: 0.0083 - acc: 0.9977 - val_loss: 0.0028 - val_acc: 1.0000\n",
      "Epoch 39/110\n",
      "3855/3855 [==============================] - 0s 18us/step - loss: 0.0075 - acc: 0.9979 - val_loss: 0.0027 - val_acc: 1.0000\n",
      "Epoch 40/110\n",
      "3855/3855 [==============================] - 0s 20us/step - loss: 0.0086 - acc: 0.9979 - val_loss: 0.0023 - val_acc: 1.0000\n",
      "Epoch 41/110\n",
      "3855/3855 [==============================] - 0s 21us/step - loss: 0.0075 - acc: 0.9982 - val_loss: 0.0027 - val_acc: 1.0000\n",
      "Epoch 42/110\n",
      "3855/3855 [==============================] - 0s 21us/step - loss: 0.0078 - acc: 0.9984 - val_loss: 0.0028 - val_acc: 1.0000\n",
      "Epoch 43/110\n",
      "3855/3855 [==============================] - 0s 21us/step - loss: 0.0084 - acc: 0.9982 - val_loss: 0.0031 - val_acc: 1.0000\n",
      "Epoch 44/110\n",
      "3855/3855 [==============================] - 0s 21us/step - loss: 0.0067 - acc: 0.9984 - val_loss: 0.0025 - val_acc: 1.0000\n",
      "Epoch 45/110\n",
      "3855/3855 [==============================] - 0s 19us/step - loss: 0.0090 - acc: 0.9977 - val_loss: 0.0024 - val_acc: 1.0000\n",
      "Epoch 46/110\n",
      "3855/3855 [==============================] - 0s 18us/step - loss: 0.0065 - acc: 0.9982 - val_loss: 0.0022 - val_acc: 1.0000\n",
      "Epoch 47/110\n",
      "3855/3855 [==============================] - 0s 21us/step - loss: 0.0082 - acc: 0.9977 - val_loss: 0.0021 - val_acc: 1.0000\n",
      "Epoch 48/110\n",
      "3855/3855 [==============================] - 0s 21us/step - loss: 0.0098 - acc: 0.9984 - val_loss: 0.0020 - val_acc: 1.0000\n",
      "Epoch 49/110\n",
      "3855/3855 [==============================] - 0s 18us/step - loss: 0.0073 - acc: 0.9982 - val_loss: 0.0021 - val_acc: 1.0000\n",
      "Epoch 50/110\n",
      "3855/3855 [==============================] - 0s 26us/step - loss: 0.0080 - acc: 0.9977 - val_loss: 0.0018 - val_acc: 1.0000\n",
      "Epoch 51/110\n",
      "3855/3855 [==============================] - 0s 25us/step - loss: 0.0078 - acc: 0.9974 - val_loss: 0.0018 - val_acc: 1.0000\n",
      "Epoch 52/110\n",
      "3855/3855 [==============================] - 0s 21us/step - loss: 0.0070 - acc: 0.9982 - val_loss: 0.0016 - val_acc: 1.0000\n",
      "Epoch 53/110\n",
      "3855/3855 [==============================] - 0s 17us/step - loss: 0.0075 - acc: 0.9982 - val_loss: 0.0018 - val_acc: 1.0000\n",
      "Epoch 54/110\n",
      "3855/3855 [==============================] - 0s 22us/step - loss: 0.0082 - acc: 0.9974 - val_loss: 0.0019 - val_acc: 1.0000\n",
      "Epoch 55/110\n",
      "3855/3855 [==============================] - 0s 20us/step - loss: 0.0078 - acc: 0.9974 - val_loss: 0.0017 - val_acc: 1.0000\n",
      "Epoch 56/110\n",
      "3855/3855 [==============================] - 0s 19us/step - loss: 0.0067 - acc: 0.9982 - val_loss: 0.0015 - val_acc: 1.0000\n",
      "Epoch 57/110\n",
      "3855/3855 [==============================] - 0s 18us/step - loss: 0.0085 - acc: 0.9977 - val_loss: 0.0017 - val_acc: 1.0000\n",
      "Epoch 58/110\n",
      "3855/3855 [==============================] - 0s 23us/step - loss: 0.0080 - acc: 0.9984 - val_loss: 0.0017 - val_acc: 1.0000\n",
      "Epoch 59/110\n",
      "3855/3855 [==============================] - 0s 20us/step - loss: 0.0048 - acc: 0.9982 - val_loss: 0.0015 - val_acc: 1.0000\n",
      "Epoch 60/110\n",
      "3855/3855 [==============================] - 0s 21us/step - loss: 0.0069 - acc: 0.9990 - val_loss: 0.0015 - val_acc: 1.0000\n",
      "Epoch 61/110\n",
      "3855/3855 [==============================] - 0s 19us/step - loss: 0.0060 - acc: 0.9979 - val_loss: 0.0017 - val_acc: 1.0000\n",
      "Epoch 62/110\n",
      "3855/3855 [==============================] - 0s 24us/step - loss: 0.0070 - acc: 0.9990 - val_loss: 0.0017 - val_acc: 1.0000\n",
      "Epoch 63/110\n",
      "3855/3855 [==============================] - 0s 22us/step - loss: 0.0064 - acc: 0.9987 - val_loss: 0.0019 - val_acc: 1.0000\n",
      "Epoch 64/110\n",
      "3855/3855 [==============================] - 0s 16us/step - loss: 0.0063 - acc: 0.9984 - val_loss: 0.0015 - val_acc: 1.0000\n",
      "Epoch 65/110\n",
      "3855/3855 [==============================] - 0s 19us/step - loss: 0.0077 - acc: 0.9979 - val_loss: 0.0014 - val_acc: 1.0000\n",
      "Epoch 66/110\n",
      "3855/3855 [==============================] - 0s 23us/step - loss: 0.0065 - acc: 0.9979 - val_loss: 0.0016 - val_acc: 1.0000\n",
      "Epoch 67/110\n",
      "3855/3855 [==============================] - 0s 22us/step - loss: 0.0055 - acc: 0.9982 - val_loss: 0.0016 - val_acc: 1.0000\n",
      "Epoch 68/110\n",
      "3855/3855 [==============================] - 0s 18us/step - loss: 0.0085 - acc: 0.9974 - val_loss: 0.0016 - val_acc: 1.0000\n",
      "Epoch 69/110\n",
      "3855/3855 [==============================] - 0s 17us/step - loss: 0.0058 - acc: 0.9987 - val_loss: 0.0016 - val_acc: 1.0000\n",
      "Epoch 70/110\n",
      "3855/3855 [==============================] - 0s 18us/step - loss: 0.0069 - acc: 0.9982 - val_loss: 0.0017 - val_acc: 1.0000\n",
      "Epoch 71/110\n",
      "3855/3855 [==============================] - 0s 17us/step - loss: 0.0079 - acc: 0.9982 - val_loss: 0.0017 - val_acc: 1.0000\n",
      "Epoch 72/110\n",
      "3855/3855 [==============================] - 0s 17us/step - loss: 0.0077 - acc: 0.9974 - val_loss: 0.0015 - val_acc: 1.0000\n",
      "Epoch 73/110\n",
      "3855/3855 [==============================] - 0s 23us/step - loss: 0.0062 - acc: 0.9982 - val_loss: 0.0014 - val_acc: 1.0000\n",
      "Epoch 74/110\n",
      "3855/3855 [==============================] - 0s 22us/step - loss: 0.0062 - acc: 0.9984 - val_loss: 0.0014 - val_acc: 1.0000\n",
      "Epoch 75/110\n",
      "3855/3855 [==============================] - 0s 22us/step - loss: 0.0049 - acc: 0.9990 - val_loss: 0.0014 - val_acc: 1.0000\n",
      "Epoch 76/110\n",
      "3855/3855 [==============================] - 0s 22us/step - loss: 0.0064 - acc: 0.9977 - val_loss: 0.0017 - val_acc: 1.0000\n",
      "Epoch 77/110\n",
      "3855/3855 [==============================] - 0s 19us/step - loss: 0.0076 - acc: 0.9979 - val_loss: 0.0015 - val_acc: 1.0000\n",
      "Epoch 78/110\n",
      "3855/3855 [==============================] - 0s 17us/step - loss: 0.0079 - acc: 0.9984 - val_loss: 0.0016 - val_acc: 1.0000\n",
      "Epoch 79/110\n",
      "3855/3855 [==============================] - 0s 18us/step - loss: 0.0087 - acc: 0.9969 - val_loss: 0.0018 - val_acc: 1.0000\n",
      "Epoch 80/110\n",
      "3855/3855 [==============================] - 0s 18us/step - loss: 0.0064 - acc: 0.9982 - val_loss: 0.0016 - val_acc: 1.0000\n",
      "Epoch 81/110\n",
      "3855/3855 [==============================] - 0s 17us/step - loss: 0.0067 - acc: 0.9977 - val_loss: 0.0014 - val_acc: 1.0000\n",
      "Epoch 82/110\n",
      "3855/3855 [==============================] - 0s 19us/step - loss: 0.0054 - acc: 0.9992 - val_loss: 0.0015 - val_acc: 1.0000\n",
      "Epoch 83/110\n",
      "3855/3855 [==============================] - 0s 17us/step - loss: 0.0062 - acc: 0.9984 - val_loss: 0.0016 - val_acc: 1.0000\n",
      "Epoch 84/110\n",
      "3855/3855 [==============================] - 0s 17us/step - loss: 0.0049 - acc: 0.9992 - val_loss: 0.0015 - val_acc: 1.0000\n",
      "Epoch 85/110\n",
      "3855/3855 [==============================] - 0s 16us/step - loss: 0.0073 - acc: 0.9979 - val_loss: 0.0014 - val_acc: 1.0000\n",
      "Epoch 86/110\n",
      "3855/3855 [==============================] - 0s 16us/step - loss: 0.0063 - acc: 0.9982 - val_loss: 0.0014 - val_acc: 1.0000\n",
      "Epoch 87/110\n",
      "3855/3855 [==============================] - 0s 17us/step - loss: 0.0083 - acc: 0.9971 - val_loss: 0.0016 - val_acc: 1.0000\n",
      "Epoch 88/110\n",
      "3855/3855 [==============================] - 0s 17us/step - loss: 0.0068 - acc: 0.9987 - val_loss: 0.0016 - val_acc: 1.0000\n",
      "Epoch 89/110\n",
      "3855/3855 [==============================] - 0s 16us/step - loss: 0.0051 - acc: 0.9987 - val_loss: 0.0014 - val_acc: 1.0000\n",
      "Epoch 90/110\n",
      "3855/3855 [==============================] - 0s 16us/step - loss: 0.0060 - acc: 0.9984 - val_loss: 0.0013 - val_acc: 1.0000\n",
      "Epoch 91/110\n",
      "3855/3855 [==============================] - 0s 16us/step - loss: 0.0092 - acc: 0.9982 - val_loss: 0.0013 - val_acc: 1.0000\n",
      "Epoch 92/110\n",
      "3855/3855 [==============================] - 0s 17us/step - loss: 0.0062 - acc: 0.9984 - val_loss: 0.0013 - val_acc: 1.0000\n",
      "Epoch 93/110\n",
      "3855/3855 [==============================] - 0s 16us/step - loss: 0.0069 - acc: 0.9982 - val_loss: 0.0012 - val_acc: 1.0000\n",
      "Epoch 94/110\n",
      "3855/3855 [==============================] - 0s 17us/step - loss: 0.0058 - acc: 0.9977 - val_loss: 0.0014 - val_acc: 1.0000\n",
      "Epoch 95/110\n",
      "3855/3855 [==============================] - 0s 17us/step - loss: 0.0067 - acc: 0.9982 - val_loss: 0.0014 - val_acc: 1.0000\n",
      "Epoch 96/110\n",
      "3855/3855 [==============================] - 0s 22us/step - loss: 0.0051 - acc: 0.9990 - val_loss: 0.0015 - val_acc: 1.0000\n",
      "Epoch 97/110\n",
      "3855/3855 [==============================] - 0s 21us/step - loss: 0.0053 - acc: 0.9979 - val_loss: 0.0014 - val_acc: 1.0000\n",
      "Epoch 98/110\n",
      "3855/3855 [==============================] - 0s 21us/step - loss: 0.0052 - acc: 0.9987 - val_loss: 0.0011 - val_acc: 1.0000\n",
      "Epoch 99/110\n",
      "3855/3855 [==============================] - 0s 20us/step - loss: 0.0065 - acc: 0.9990 - val_loss: 0.0014 - val_acc: 1.0000\n",
      "Epoch 100/110\n",
      "3855/3855 [==============================] - 0s 21us/step - loss: 0.0056 - acc: 0.9982 - val_loss: 0.0014 - val_acc: 1.0000\n",
      "Epoch 101/110\n",
      "3855/3855 [==============================] - 0s 19us/step - loss: 0.0053 - acc: 0.9984 - val_loss: 0.0013 - val_acc: 1.0000\n",
      "Epoch 102/110\n",
      "3855/3855 [==============================] - 0s 18us/step - loss: 0.0047 - acc: 0.9987 - val_loss: 0.0013 - val_acc: 1.0000\n",
      "Epoch 103/110\n",
      "3855/3855 [==============================] - 0s 17us/step - loss: 0.0061 - acc: 0.9987 - val_loss: 0.0013 - val_acc: 1.0000\n",
      "Epoch 104/110\n",
      "3855/3855 [==============================] - 0s 18us/step - loss: 0.0048 - acc: 0.9990 - val_loss: 0.0013 - val_acc: 1.0000\n",
      "Epoch 105/110\n",
      "3855/3855 [==============================] - 0s 18us/step - loss: 0.0114 - acc: 0.9969 - val_loss: 0.0014 - val_acc: 1.0000\n",
      "Epoch 106/110\n",
      "3855/3855 [==============================] - 0s 18us/step - loss: 0.0068 - acc: 0.9987 - val_loss: 0.0012 - val_acc: 1.0000\n",
      "Epoch 107/110\n",
      "3855/3855 [==============================] - 0s 17us/step - loss: 0.0047 - acc: 0.9992 - val_loss: 0.0012 - val_acc: 1.0000\n",
      "Epoch 108/110\n",
      "3855/3855 [==============================] - 0s 17us/step - loss: 0.0073 - acc: 0.9979 - val_loss: 0.0011 - val_acc: 1.0000\n",
      "Epoch 109/110\n",
      "3855/3855 [==============================] - 0s 16us/step - loss: 0.0053 - acc: 0.9982 - val_loss: 0.0010 - val_acc: 1.0000\n",
      "Epoch 110/110\n",
      "3855/3855 [==============================] - 0s 16us/step - loss: 0.0058 - acc: 0.9990 - val_loss: 0.0012 - val_acc: 1.0000\n"
     ]
    },
    {
     "data": {
      "text/plain": [
       "<keras.callbacks.History at 0x7fba5c751128>"
      ]
     },
     "execution_count": 8,
     "metadata": {},
     "output_type": "execute_result"
    }
   ],
   "source": [
    "classifier.fit(x=X_train, y=y_train, epochs=110, validation_split=0.10, batch_size=75,shuffle=True)"
   ]
  },
  {
   "cell_type": "code",
   "execution_count": 9,
   "metadata": {},
   "outputs": [
    {
     "name": "stdout",
     "output_type": "stream",
     "text": [
      "476/476 [==============================] - 0s 21us/step\n"
     ]
    }
   ],
   "source": [
    "loss, accuracy = classifier.evaluate(X_test, y_test)"
   ]
  },
  {
   "cell_type": "code",
   "execution_count": 10,
   "metadata": {},
   "outputs": [
    {
     "name": "stdout",
     "output_type": "stream",
     "text": [
      "loss: 6.1864e-04\n",
      "accuracy: 100.0000%\n"
     ]
    }
   ],
   "source": [
    "print(\"loss: {:.4e}\".format(loss))\n",
    "print(\"accuracy: {:2.4f}%\".format(accuracy*100))"
   ]
  },
  {
   "cell_type": "code",
   "execution_count": 41,
   "metadata": {},
   "outputs": [],
   "source": [
    "classifier.save('./models/my_models/classifier_model_'+node+'.h5')"
   ]
  },
  {
   "cell_type": "code",
   "execution_count": 11,
   "metadata": {},
   "outputs": [],
   "source": [
    "def assign_class(predicted_probabilities, threshold=0.5):\n",
    "    classes = []\n",
    "    for i in range(len(predicted_probabilities)):\n",
    "        if(predicted_probabilities[i] >= threshold):\n",
    "            classes.append(1)\n",
    "        else:\n",
    "            classes.append(0)\n",
    "    return np.asarray(classes)"
   ]
  },
  {
   "cell_type": "code",
   "execution_count": 12,
   "metadata": {},
   "outputs": [],
   "source": [
    "predict_prob = classifier.predict(X_test)"
   ]
  },
  {
   "cell_type": "code",
   "execution_count": 13,
   "metadata": {},
   "outputs": [],
   "source": [
    "classes = assign_class(predict_prob)"
   ]
  },
  {
   "cell_type": "code",
   "execution_count": 14,
   "metadata": {},
   "outputs": [
    {
     "name": "stdout",
     "output_type": "stream",
     "text": [
      "Accuracy :100.0\n",
      "f1Score: 1.0\n"
     ]
    }
   ],
   "source": [
    "from sklearn.metrics import accuracy_score\n",
    "print(\"Accuracy :\"+str(accuracy_score(y_test,classes)*100))\n",
    "from sklearn.metrics import f1_score\n",
    "print(\"f1Score: \"+str(f1_score(y_test,classes,average='weighted')))\n"
   ]
  },
  {
   "cell_type": "code",
   "execution_count": 15,
   "metadata": {},
   "outputs": [
    {
     "data": {
      "text/plain": [
       "array([[444,   0],\n",
       "       [  0,  32]])"
      ]
     },
     "execution_count": 15,
     "metadata": {},
     "output_type": "execute_result"
    }
   ],
   "source": [
    "from sklearn.metrics import confusion_matrix\n",
    "confusion_matrix(y_test, classes)"
   ]
  },
  {
   "cell_type": "markdown",
   "metadata": {},
   "source": [
    "<h2> Test on Node r183c09s01 </h2>"
   ]
  },
  {
   "cell_type": "code",
   "execution_count": 16,
   "metadata": {},
   "outputs": [],
   "source": [
    "df = pd.read_csv(\"./my_code/norm_dataset/r183c09s01_normalised.csv\")"
   ]
  },
  {
   "cell_type": "code",
   "execution_count": 17,
   "metadata": {},
   "outputs": [],
   "source": [
    "#drop timestamp col and divide df into anomaly df and no anomaly df\n",
    "df = df.drop(\"timestamp\",axis=1)\n",
    "df_noAn = df[df.label==0]\n",
    "df_An = df[df.label==1]\n",
    "labels_noAn = df_noAn[\"label\"]\n",
    "labels_An = df_An[\"label\"]"
   ]
  },
  {
   "cell_type": "code",
   "execution_count": 18,
   "metadata": {},
   "outputs": [],
   "source": [
    "#Drop label col for prediction\n",
    "df_noAn = df_noAn.drop(\"label\",axis=1)\n",
    "df_An = df_An.drop(\"label\",axis=1)"
   ]
  },
  {
   "cell_type": "code",
   "execution_count": 22,
   "metadata": {},
   "outputs": [],
   "source": [
    "predict_prob_noAn = classifier.predict(df_noAn)\n",
    "predict_prob_An = classifier.predict(df_An)"
   ]
  },
  {
   "cell_type": "code",
   "execution_count": 24,
   "metadata": {},
   "outputs": [
    {
     "data": {
      "text/plain": [
       "array([[1.3411045e-06],\n",
       "       [2.9802322e-08],\n",
       "       [2.0861626e-07],\n",
       "       ...,\n",
       "       [6.5522472e-05],\n",
       "       [0.0000000e+00],\n",
       "       [8.4171070e-06]], dtype=float32)"
      ]
     },
     "execution_count": 24,
     "metadata": {},
     "output_type": "execute_result"
    }
   ],
   "source": []
  },
  {
   "cell_type": "code",
   "execution_count": 20,
   "metadata": {},
   "outputs": [],
   "source": [
    "classes_An = assign_class(predict_prob_An)\n",
    "classes_NoAn = assign_class(predict_prob_noAn)"
   ]
  },
  {
   "cell_type": "code",
   "execution_count": 21,
   "metadata": {},
   "outputs": [
    {
     "name": "stdout",
     "output_type": "stream",
     "text": [
      "Accuracy :0.0\n",
      "f1Score: 0.0\n"
     ]
    }
   ],
   "source": [
    "#metrics for df anomaly\n",
    "from sklearn.metrics import accuracy_score\n",
    "print(\"Accuracy :\"+str(accuracy_score(labels_An,classes_An)*100))\n",
    "from sklearn.metrics import f1_score\n",
    "print(\"f1Score: \"+str(f1_score(labels_An,classes_An)))\n"
   ]
  },
  {
   "cell_type": "code",
   "execution_count": 140,
   "metadata": {},
   "outputs": [],
   "source": [
    "#metrics for total dataset\n",
    "labels = df[\"label\"]\n",
    "df_total = df.drop(\"label\",axis=1)"
   ]
  },
  {
   "cell_type": "code",
   "execution_count": 141,
   "metadata": {},
   "outputs": [],
   "source": [
    "predict_prob = classifier.predict(df_total)\n",
    "classes = assign_class(predict_prob)"
   ]
  },
  {
   "cell_type": "code",
   "execution_count": 142,
   "metadata": {},
   "outputs": [
    {
     "data": {
      "text/plain": [
       "array([[3683,    0],\n",
       "       [  75,    0]])"
      ]
     },
     "execution_count": 142,
     "metadata": {},
     "output_type": "execute_result"
    }
   ],
   "source": [
    "from sklearn.metrics import confusion_matrix\n",
    "confusion_matrix(labels, classes)"
   ]
  },
  {
   "cell_type": "markdown",
   "metadata": {},
   "source": [
    "<h2> Test on Node r183c09s03 </h2>"
   ]
  },
  {
   "cell_type": "code",
   "execution_count": 118,
   "metadata": {},
   "outputs": [],
   "source": [
    "df = pd.read_csv(\"./my_code/norm_dataset/r183c09s03_normalised.csv\")"
   ]
  },
  {
   "cell_type": "code",
   "execution_count": 119,
   "metadata": {},
   "outputs": [],
   "source": [
    "df = df.drop(\"timestamp\",axis=1)\n",
    "#metrics for total dataset\n",
    "labels = df[\"label\"]\n",
    "df_total = df.drop(\"label\",axis=1)"
   ]
  },
  {
   "cell_type": "code",
   "execution_count": 120,
   "metadata": {},
   "outputs": [],
   "source": [
    "predict_prob = classifier.predict(df_total)\n",
    "classes = assign_class(predict_prob)"
   ]
  },
  {
   "cell_type": "code",
   "execution_count": 121,
   "metadata": {},
   "outputs": [
    {
     "data": {
      "text/plain": [
       "array([[3683,    0],\n",
       "       [  75,    0]])"
      ]
     },
     "execution_count": 121,
     "metadata": {},
     "output_type": "execute_result"
    }
   ],
   "source": [
    "from sklearn.metrics import confusion_matrix\n",
    "confusion_matrix(labels, classes)"
   ]
  }
 ],
 "metadata": {
  "kernelspec": {
   "display_name": "Python 3",
   "language": "python",
   "name": "python3"
  },
  "language_info": {
   "codemirror_mode": {
    "name": "ipython",
    "version": 3
   },
   "file_extension": ".py",
   "mimetype": "text/x-python",
   "name": "python",
   "nbconvert_exporter": "python",
   "pygments_lexer": "ipython3",
   "version": "3.7.5"
  }
 },
 "nbformat": 4,
 "nbformat_minor": 2
}
